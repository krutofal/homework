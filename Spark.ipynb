{
 "cells": [
  {
   "cell_type": "code",
   "execution_count": 1,
   "metadata": {},
   "outputs": [],
   "source": [
    "#!pip install pyspark==3.0.1 py4j==0.10.9"
   ]
  },
  {
   "cell_type": "code",
   "execution_count": 2,
   "metadata": {},
   "outputs": [],
   "source": [
    "import matplotlib.pyplot as plt\n",
    "%matplotlib inline\n",
    "import seaborn as sns\n",
    "from pyspark.sql import SparkSession\n",
    "import pandas as pd\n",
    "\n",
    "spark = SparkSession.builder\\\n",
    "        .master(\"local[2]\")\\\n",
    "        .appName('PySpark_Iris')\\\n",
    "        .getOrCreate()"
   ]
  },
  {
   "cell_type": "markdown",
   "metadata": {},
   "source": [
    "### Загрузите данные при помощи spark.read.csv из приложенного файла."
   ]
  },
  {
   "cell_type": "code",
   "execution_count": 3,
   "metadata": {},
   "outputs": [
    {
     "name": "stdout",
     "output_type": "stream",
     "text": [
      "root\n",
      " |-- sepallength: double (nullable = true)\n",
      " |-- sepalwidth: double (nullable = true)\n",
      " |-- petallength: double (nullable = true)\n",
      " |-- petalwidth: double (nullable = true)\n",
      " |-- class: string (nullable = true)\n",
      "\n"
     ]
    }
   ],
   "source": [
    "# Чтение CSV файла\n",
    "csv_file = './Data/iris_csv.csv'\n",
    "df = spark.read.csv(csv_file, sep=',', inferSchema= True, header=True)\n",
    "df.printSchema()"
   ]
  },
  {
   "cell_type": "code",
   "execution_count": 4,
   "metadata": {},
   "outputs": [],
   "source": [
    "# переименуем столбцы по условию задачи\n",
    "df=df.withColumnRenamed(\"sepallength\",\"sepal_length\") \\\n",
    "  .withColumnRenamed(\"sepalwidth\",\"sepal_width\") \\\n",
    "  .withColumnRenamed(\"petallength\",\"petal_length\") \\\n",
    "  .withColumnRenamed(\"petalwidth\",\"petal_width\")"
   ]
  },
  {
   "cell_type": "markdown",
   "metadata": {},
   "source": [
    "### Выведите 5 первых строк данных."
   ]
  },
  {
   "cell_type": "code",
   "execution_count": 5,
   "metadata": {
    "scrolled": false
   },
   "outputs": [
    {
     "name": "stdout",
     "output_type": "stream",
     "text": [
      "+------------+-----------+------------+-----------+-----------+\n",
      "|sepal_length|sepal_width|petal_length|petal_width|      class|\n",
      "+------------+-----------+------------+-----------+-----------+\n",
      "|         5.1|        3.5|         1.4|        0.2|Iris-setosa|\n",
      "|         4.9|        3.0|         1.4|        0.2|Iris-setosa|\n",
      "|         4.7|        3.2|         1.3|        0.2|Iris-setosa|\n",
      "|         4.6|        3.1|         1.5|        0.2|Iris-setosa|\n",
      "|         5.0|        3.6|         1.4|        0.2|Iris-setosa|\n",
      "+------------+-----------+------------+-----------+-----------+\n",
      "only showing top 5 rows\n",
      "\n"
     ]
    }
   ],
   "source": [
    "df.show(5)"
   ]
  },
  {
   "cell_type": "markdown",
   "metadata": {},
   "source": [
    "### Воспользуйтесь командами groupBy, max, min и avg, чтобы вывести максимальное минимальное и среднее значние каждого из аттрбутов цветка ('sepal_length', 'sepal_width', 'petal_length', 'petal_width')."
   ]
  },
  {
   "cell_type": "code",
   "execution_count": 6,
   "metadata": {
    "scrolled": true
   },
   "outputs": [
    {
     "name": "stdout",
     "output_type": "stream",
     "text": [
      "Статистика датафрейма\n",
      "+-------+------------------+-------------------+------------------+------------------+--------------+\n",
      "|summary|      sepal_length|        sepal_width|      petal_length|       petal_width|         class|\n",
      "+-------+------------------+-------------------+------------------+------------------+--------------+\n",
      "|  count|               150|                150|               150|               150|           150|\n",
      "|   mean| 5.843333333333335| 3.0540000000000007|3.7586666666666693|1.1986666666666672|          null|\n",
      "| stddev|0.8280661279778637|0.43359431136217375| 1.764420419952262|0.7631607417008414|          null|\n",
      "|    min|               4.3|                2.0|               1.0|               0.1|   Iris-setosa|\n",
      "|    max|               7.9|                4.4|               6.9|               2.5|Iris-virginica|\n",
      "+-------+------------------+-------------------+------------------+------------------+--------------+\n",
      "\n"
     ]
    }
   ],
   "source": [
    "print('Статистика датафрейма')\n",
    "df.describe().show()"
   ]
  },
  {
   "cell_type": "code",
   "execution_count": 7,
   "metadata": {},
   "outputs": [],
   "source": [
    "# Сгруппируем по наименованию класса\n",
    "df_grp=df.groupby('class')"
   ]
  },
  {
   "cell_type": "markdown",
   "metadata": {},
   "source": [
    "#### Статистика `sepal_length`"
   ]
  },
  {
   "cell_type": "code",
   "execution_count": 8,
   "metadata": {},
   "outputs": [
    {
     "name": "stdout",
     "output_type": "stream",
     "text": [
      "+---------------+-----------------+\n",
      "|          class|avg(sepal_length)|\n",
      "+---------------+-----------------+\n",
      "| Iris-virginica|6.587999999999998|\n",
      "|    Iris-setosa|5.005999999999999|\n",
      "|Iris-versicolor|            5.936|\n",
      "+---------------+-----------------+\n",
      "\n",
      "+---------------+-----------------+\n",
      "|          class|min(sepal_length)|\n",
      "+---------------+-----------------+\n",
      "| Iris-virginica|              4.9|\n",
      "|    Iris-setosa|              4.3|\n",
      "|Iris-versicolor|              4.9|\n",
      "+---------------+-----------------+\n",
      "\n",
      "+---------------+-----------------+\n",
      "|          class|max(sepal_length)|\n",
      "+---------------+-----------------+\n",
      "| Iris-virginica|              7.9|\n",
      "|    Iris-setosa|              5.8|\n",
      "|Iris-versicolor|              7.0|\n",
      "+---------------+-----------------+\n",
      "\n"
     ]
    }
   ],
   "source": [
    "df_grp.avg('sepal_length').show()\n",
    "df_grp.min('sepal_length').show()\n",
    "df_grp.max('sepal_length').show()"
   ]
  },
  {
   "cell_type": "markdown",
   "metadata": {},
   "source": [
    "#### Статистика `sepal_width`"
   ]
  },
  {
   "cell_type": "code",
   "execution_count": 9,
   "metadata": {},
   "outputs": [
    {
     "name": "stdout",
     "output_type": "stream",
     "text": [
      "+---------------+------------------+\n",
      "|          class|  avg(sepal_width)|\n",
      "+---------------+------------------+\n",
      "| Iris-virginica|2.9739999999999998|\n",
      "|    Iris-setosa|3.4180000000000006|\n",
      "|Iris-versicolor|2.7700000000000005|\n",
      "+---------------+------------------+\n",
      "\n",
      "+---------------+----------------+\n",
      "|          class|min(sepal_width)|\n",
      "+---------------+----------------+\n",
      "| Iris-virginica|             2.2|\n",
      "|    Iris-setosa|             2.3|\n",
      "|Iris-versicolor|             2.0|\n",
      "+---------------+----------------+\n",
      "\n",
      "+---------------+----------------+\n",
      "|          class|max(sepal_width)|\n",
      "+---------------+----------------+\n",
      "| Iris-virginica|             3.8|\n",
      "|    Iris-setosa|             4.4|\n",
      "|Iris-versicolor|             3.4|\n",
      "+---------------+----------------+\n",
      "\n"
     ]
    }
   ],
   "source": [
    "df_grp.avg('sepal_width').show()\n",
    "df_grp.min('sepal_width').show()\n",
    "df_grp.max('sepal_width').show()"
   ]
  },
  {
   "cell_type": "markdown",
   "metadata": {},
   "source": [
    "#### Статистика `petal_length`"
   ]
  },
  {
   "cell_type": "code",
   "execution_count": 10,
   "metadata": {},
   "outputs": [
    {
     "name": "stdout",
     "output_type": "stream",
     "text": [
      "+---------------+-----------------+\n",
      "|          class|avg(petal_length)|\n",
      "+---------------+-----------------+\n",
      "| Iris-virginica|            5.552|\n",
      "|    Iris-setosa|            1.464|\n",
      "|Iris-versicolor|             4.26|\n",
      "+---------------+-----------------+\n",
      "\n",
      "+---------------+-----------------+\n",
      "|          class|min(petal_length)|\n",
      "+---------------+-----------------+\n",
      "| Iris-virginica|              4.5|\n",
      "|    Iris-setosa|              1.0|\n",
      "|Iris-versicolor|              3.0|\n",
      "+---------------+-----------------+\n",
      "\n",
      "+---------------+-----------------+\n",
      "|          class|max(petal_length)|\n",
      "+---------------+-----------------+\n",
      "| Iris-virginica|              6.9|\n",
      "|    Iris-setosa|              1.9|\n",
      "|Iris-versicolor|              5.1|\n",
      "+---------------+-----------------+\n",
      "\n"
     ]
    }
   ],
   "source": [
    "df_grp.avg('petal_length').show()\n",
    "df_grp.min('petal_length').show()\n",
    "df_grp.max('petal_length').show()"
   ]
  },
  {
   "cell_type": "markdown",
   "metadata": {},
   "source": [
    "#### Статистика `petal_width`"
   ]
  },
  {
   "cell_type": "code",
   "execution_count": 11,
   "metadata": {},
   "outputs": [
    {
     "name": "stdout",
     "output_type": "stream",
     "text": [
      "+---------------+------------------+\n",
      "|          class|  avg(petal_width)|\n",
      "+---------------+------------------+\n",
      "| Iris-virginica|             2.026|\n",
      "|    Iris-setosa|0.2439999999999999|\n",
      "|Iris-versicolor|1.3259999999999998|\n",
      "+---------------+------------------+\n",
      "\n",
      "+---------------+----------------+\n",
      "|          class|min(petal_width)|\n",
      "+---------------+----------------+\n",
      "| Iris-virginica|             1.4|\n",
      "|    Iris-setosa|             0.1|\n",
      "|Iris-versicolor|             1.0|\n",
      "+---------------+----------------+\n",
      "\n",
      "+---------------+----------------+\n",
      "|          class|max(petal_width)|\n",
      "+---------------+----------------+\n",
      "| Iris-virginica|             2.5|\n",
      "|    Iris-setosa|             0.6|\n",
      "|Iris-versicolor|             1.8|\n",
      "+---------------+----------------+\n",
      "\n"
     ]
    }
   ],
   "source": [
    "df_grp.avg('petal_width').show()\n",
    "df_grp.min('petal_width').show()\n",
    "df_grp.max('petal_width').show()"
   ]
  },
  {
   "cell_type": "markdown",
   "metadata": {},
   "source": [
    "### Постройте точечную диаграмму для petal_length и petal_width, раскрашенный по типам цветков."
   ]
  },
  {
   "cell_type": "code",
   "execution_count": 12,
   "metadata": {},
   "outputs": [
    {
     "data": {
      "image/png": "[encoded data removed]",
      "text/plain": [
       "<Figure size 432x288 with 1 Axes>"
      ]
     },
     "metadata": {
      "needs_background": "light"
     },
     "output_type": "display_data"
    }
   ],
   "source": [
    "dfp = df.toPandas()\n",
    "sns.scatterplot(x='petal_length', y='petal_width', data=dfp, hue='class');"
   ]
  },
  {
   "cell_type": "markdown",
   "metadata": {},
   "source": [
    "### Посмотрите внимательно на получившийся график и сформируйте правило вида ЕСЛИ ЗНАЧЕНИЕ ПАРАМЕТРА A < ЗНАЧЕНИЕ, ТО IRIS ОТНОСИТСЯ К КЛАССУ SETOSA - ИНАЧЕ К КАКОМУ-ТО ДРУГОМУ (НАЗОВЕМ, ЕГО НАПРИМЕР UNKNOWN)."
   ]
  },
  {
   "cell_type": "markdown",
   "metadata": {},
   "source": [
    "**Правило: ЕСЛИ `(petal_length < 2)` ТО `setosa` ИНАЧЕ `unknown`**"
   ]
  },
  {
   "cell_type": "code",
   "execution_count": 13,
   "metadata": {},
   "outputs": [
    {
     "name": "stdout",
     "output_type": "stream",
     "text": [
      "+------------+-----------+------------+-----------+-----------+\n",
      "|sepal_length|sepal_width|petal_length|petal_width|      class|\n",
      "+------------+-----------+------------+-----------+-----------+\n",
      "|         5.1|        3.5|         1.4|        0.2|Iris-setosa|\n",
      "|         4.9|        3.0|         1.4|        0.2|Iris-setosa|\n",
      "|         4.7|        3.2|         1.3|        0.2|Iris-setosa|\n",
      "+------------+-----------+------------+-----------+-----------+\n",
      "only showing top 3 rows\n",
      "\n",
      "Количество измерений, соответствующих условию:  50\n"
     ]
    }
   ],
   "source": [
    "dfs = df.where(df['petal_length']<2)\n",
    "dfs.show(3)\n",
    "print('Количество измерений, соответствующих условию: ', dfs.count())"
   ]
  },
  {
   "cell_type": "markdown",
   "metadata": {},
   "source": [
    "### При помощи команд `withColumn, when, otherwise` создайте в датафрейме новую колонку с таким предсказанием."
   ]
  },
  {
   "cell_type": "code",
   "execution_count": 14,
   "metadata": {},
   "outputs": [
    {
     "name": "stdout",
     "output_type": "stream",
     "text": [
      "Обновленный датафрейм\n",
      "+------------+-----------+------------+-----------+-----------+-------+\n",
      "|sepal_length|sepal_width|petal_length|petal_width|      class|predict|\n",
      "+------------+-----------+------------+-----------+-----------+-------+\n",
      "|         5.1|        3.5|         1.4|        0.2|Iris-setosa| setosa|\n",
      "|         4.9|        3.0|         1.4|        0.2|Iris-setosa| setosa|\n",
      "|         4.7|        3.2|         1.3|        0.2|Iris-setosa| setosa|\n",
      "+------------+-----------+------------+-----------+-----------+-------+\n",
      "only showing top 3 rows\n",
      "\n"
     ]
    }
   ],
   "source": [
    "from pyspark.sql.functions import when\n",
    "df = df.withColumn('predict',\n",
    "             when(df['petal_length'] < 2, 'setosa')\n",
    "             .otherwise('unknown'))\n",
    "print('Обновленный датафрейм')\n",
    "df.show(3)"
   ]
  },
  {
   "cell_type": "markdown",
   "metadata": {},
   "source": [
    "### Проверьте качество своего предсказания."
   ]
  },
  {
   "cell_type": "markdown",
   "metadata": {},
   "source": [
    "#### Подсчитайте количество строк, где Вы предсказали класс Setosa и правильный класс был так же Setosa."
   ]
  },
  {
   "cell_type": "code",
   "execution_count": 15,
   "metadata": {},
   "outputs": [
    {
     "name": "stdout",
     "output_type": "stream",
     "text": [
      "Промаркировано 50 из 50\n"
     ]
    }
   ],
   "source": [
    "full = df.where(df['class'] == 'Iris-setosa').count()\n",
    "marked = df.where((df['class'] == 'Iris-setosa')&(df['predict'] == 'setosa')).count()\n",
    "print('Промаркировано {} из {}'.format(marked, full))"
   ]
  },
  {
   "cell_type": "markdown",
   "metadata": {},
   "source": [
    "#### Подсчитайте количество строк, где Вы предсказали класс Setosa, а правильный класс был какой-то другой (воспользуйтесь оператором \"не равно\" - !=)"
   ]
  },
  {
   "cell_type": "code",
   "execution_count": 16,
   "metadata": {},
   "outputs": [
    {
     "name": "stdout",
     "output_type": "stream",
     "text": [
      "Ошибок маркировки 0\n"
     ]
    }
   ],
   "source": [
    "mark_error =  df.where((df['class'] != 'Iris-setosa')&(df['predict'] == 'setosa')).count()\n",
    "print('Ошибок маркировки', mark_error)"
   ]
  },
  {
   "cell_type": "markdown",
   "metadata": {},
   "source": [
    "#### Вывод"
   ]
  },
  {
   "cell_type": "markdown",
   "metadata": {},
   "source": [
    "Предсказание полностью соответствует действительности, все измерения для `Iris-setosa` промаркированы корректно. "
   ]
  }
 ],
 "metadata": {
  "kernelspec": {
   "display_name": "Python 3",
   "language": "python",
   "name": "python3"
  },
  "language_info": {
   "codemirror_mode": {
    "name": "ipython",
    "version": 3
   },
   "file_extension": ".py",
   "mimetype": "text/x-python",
   "name": "python",
   "nbconvert_exporter": "python",
   "pygments_lexer": "ipython3",
   "version": "3.8.10"
  },
  "toc": {
   "base_numbering": 1,
   "nav_menu": {},
   "number_sections": true,
   "sideBar": true,
   "skip_h1_title": false,
   "title_cell": "Table of Contents",
   "title_sidebar": "Contents",
   "toc_cell": false,
   "toc_position": {},
   "toc_section_display": true,
   "toc_window_display": false
  }
 },
 "nbformat": 4,
 "nbformat_minor": 4
}
