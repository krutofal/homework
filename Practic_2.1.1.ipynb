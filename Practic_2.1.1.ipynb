{
 "cells": [
  {
   "cell_type": "markdown",
   "metadata": {},
   "source": [
    "## 1\n",
    "```\n",
    "Вам необходимо написать код для подсчета суммы элементов в списке.\n",
    "Для примера: в списке [1,2,3,4,5,6,7,8,9,10] сумма равна 55\n",
    "```"
   ]
  },
  {
   "cell_type": "code",
   "execution_count": 1,
   "metadata": {},
   "outputs": [],
   "source": [
    "def calc(a):\n",
    "    s = 0\n",
    "    for i in a:\n",
    "        s += i\n",
    "    print('Сумма равна {}'.format(s))    "
   ]
  },
  {
   "cell_type": "code",
   "execution_count": 2,
   "metadata": {},
   "outputs": [
    {
     "name": "stdout",
     "output_type": "stream",
     "text": [
      "Сумма равна 55\n"
     ]
    }
   ],
   "source": [
    "a = [1,2,3,4,5,6,7,8,9,10]\n",
    "calc(a)"
   ]
  },
  {
   "cell_type": "markdown",
   "metadata": {},
   "source": [
    "## 2\n",
    "```\n",
    "Вам необходимо написать код для:\n",
    "  a. Выявления дубликатов в списке\n",
    "  b. Подсчета количества различных значений\n",
    "  c. Вычисления трех самых часто встречающихся элементов\n",
    "\n",
    "Проверку работы вашего кода можно осуществить на следующем списке:\n",
    "['a', 'b', 'c', 'b', 'd', 'm', 'n', 'n', 'z', 'z', 'z', 'a' ]\n",
    "Дубликаты: b, n, z, a\n",
    "Число различных значений: 7\n",
    "Топ-3: z(3), b(2), n(2)\n",
    "```"
   ]
  },
  {
   "cell_type": "code",
   "execution_count": 3,
   "metadata": {},
   "outputs": [],
   "source": [
    "def doubles(a):\n",
    "    differ = set(a)\n",
    "    dubl = {l : a.count(l) for l in differ if a.count(l) > 1}          \n",
    "    sorted_dubl = sorted(dubl.items(), key=lambda x: x[1], reverse=True)[:3]\n",
    "    for i in range(3):\n",
    "        sorted_dubl[i] = '{}({})'.format(sorted_dubl[i][0], sorted_dubl[i][1])\n",
    "    print('Дубликаты: {}'.format(', '.join(dubl)))\n",
    "    print('Число различных значений: {}'.format(len(differ)))\n",
    "    print('Топ-3: {}'.format(', '.join(sorted_dubl)))\n",
    "            "
   ]
  },
  {
   "cell_type": "code",
   "execution_count": 4,
   "metadata": {},
   "outputs": [
    {
     "name": "stdout",
     "output_type": "stream",
     "text": [
      "Дубликаты: n, b, z, a\n",
      "Число различных значений: 7\n",
      "Топ-3: z(3), n(2), b(2)\n"
     ]
    }
   ],
   "source": [
    "a = ['a', 'b', 'c', 'b', 'd', 'm', 'n', 'n', 'z', 'z', 'z', 'a' ]\n",
    "doubles(a)"
   ]
  },
  {
   "cell_type": "markdown",
   "metadata": {},
   "source": [
    "## 3\n",
    "```\n",
    "В переменной picture записан список из списков (или матрица 7х7). Вам\n",
    "необходимо написать код, который пройдет по всем элементам списка,\n",
    "напечатает в консоль вместо 0 символ пробела (‘ ’), а вместо 1 -- ‘*’\n",
    "(звездочку) в том же порядке, в каком идут элементы в матрице.\n",
    "picture = [\n",
    "[0,0,0,1,0,0,0],\n",
    "[0,0,1,1,1,0,0],\n",
    "[0,1,1,1,1,1,0],\n",
    "[1,1,1,1,1,1,1],\n",
    "[0,0,0,1,0,0,0],\n",
    "[0,0,0,1,0,0,0]\n",
    "]\n",
    "\n",
    "(Примерный) ожидаемый результат:\n",
    "   *\n",
    "  ***\n",
    " *****\n",
    "*******\n",
    "   *\n",
    "   *\n",
    "```"
   ]
  },
  {
   "cell_type": "code",
   "execution_count": 3,
   "metadata": {},
   "outputs": [],
   "source": [
    "def tree(picture):\n",
    "    for line in picture:\n",
    "        print(''.join(['*' if i else ' ' for i in line]))"
   ]
  },
  {
   "cell_type": "code",
   "execution_count": 4,
   "metadata": {},
   "outputs": [
    {
     "name": "stdout",
     "output_type": "stream",
     "text": [
      "   *   \n",
      "  ***  \n",
      " ***** \n",
      "*******\n",
      "   *   \n",
      "   *   \n"
     ]
    }
   ],
   "source": [
    "picture = [\n",
    "[0,0,0,1,0,0,0],\n",
    "[0,0,1,1,1,0,0],\n",
    "[0,1,1,1,1,1,0],\n",
    "[1,1,1,1,1,1,1],\n",
    "[0,0,0,1,0,0,0],\n",
    "[0,0,0,1,0,0,0]\n",
    "]\n",
    "tree(picture)"
   ]
  }
 ],
 "metadata": {
  "kernelspec": {
   "display_name": "Python 3",
   "language": "python",
   "name": "python3"
  },
  "language_info": {
   "codemirror_mode": {
    "name": "ipython",
    "version": 3
   },
   "file_extension": ".py",
   "mimetype": "text/x-python",
   "name": "python",
   "nbconvert_exporter": "python",
   "pygments_lexer": "ipython3",
   "version": "3.8.10"
  }
 },
 "nbformat": 4,
 "nbformat_minor": 4
}
